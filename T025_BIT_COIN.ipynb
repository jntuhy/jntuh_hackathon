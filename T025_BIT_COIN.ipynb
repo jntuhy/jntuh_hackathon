{
 "cells": [
  {
   "cell_type": "markdown",
   "metadata": {
    "tags": [
     "s1",
     "content"
    ]
   },
   "source": [
    "\n",
    "                \n",
    "BITCOIN PRICE ANALYSIS\n",
    "                \n",
    "    CRYPTOCURRENCY MARKET\n",
    "           \n",
    "           Bitcoin is a world wide currency.It is the first decentralized digital currency.\n",
    "      \n",
    "      Exercise:\n",
    "      Historic price of bitcoins are provided for analysis :\n",
    "\n",
    "    1.Ingest the data into a format that is easy for analysis.\n",
    "    2.Perform Exploratory Data Analysis on the dataset.\n",
    "    3.Can you predict the future price of the dataset?\n",
    "\n"
   ]
  },
  {
   "cell_type": "code",
   "execution_count": 2,
   "metadata": {
    "tags": [
     "s1",
     "ce"
    ]
   },
   "outputs": [
    {
     "ename": "IndentationError",
     "evalue": "unexpected indent (<ipython-input-2-aeba38dcac6b>, line 3)",
     "output_type": "error",
     "traceback": [
      "\u001b[0;36m  File \u001b[0;32m\"<ipython-input-2-aeba38dcac6b>\"\u001b[0;36m, line \u001b[0;32m3\u001b[0m\n\u001b[0;31m    twitter_config=json.load(TWEEPY_CONFIG_FILE)\u001b[0m\n\u001b[0m    ^\u001b[0m\n\u001b[0;31mIndentationError\u001b[0m\u001b[0;31m:\u001b[0m unexpected indent\n"
     ]
    }
   ],
   "source": [
    "#initial_code, the code written here will be shown to user, write here initial setup to help user get started\n",
    "\n",
    " twitter_config=json.load(TWEEPY_CONFIG_FILE)\n",
    "    auth = tweepy.OAuthHandler(**reddit_config)\n",
    "    api = tweepy.API(auth)\n",
    "    public_tweets=api.search('bitcoin')\n"
   ]
  },
  {
   "cell_type": "markdown",
   "metadata": {
    "tags": [
     "s1",
     "hint"
    ]
   },
   "source": [
    "reddit_config=json.load(open(PRAW_CONFIG_FILE))\n",
    "reddit = praw.Reddit(**reddit_config)\n",
    "top_posts = reddit.subreddit('bitcoin').top()\n"
   ]
  },
  {
   "cell_type": "code",
   "execution_count": 1,
   "metadata": {
    "tags": [
     "s1",
     "ans"
    ]
   },
   "outputs": [
    {
     "ename": "NameError",
     "evalue": "name 'price_' is not defined",
     "output_type": "error",
     "traceback": [
      "\u001b[0;31m---------------------------------------------------------------------------\u001b[0m",
      "\u001b[0;31mNameError\u001b[0m                                 Traceback (most recent call last)",
      "\u001b[0;32m<ipython-input-1-2a83c0e5d26b>\u001b[0m in \u001b[0;36m<module>\u001b[0;34m()\u001b[0m\n\u001b[1;32m      1\u001b[0m \u001b[0;31m#answer, write code which is a solution for above question.\u001b[0m\u001b[0;34m\u001b[0m\u001b[0;34m\u001b[0m\u001b[0m\n\u001b[0;32m----> 2\u001b[0;31m \u001b[0mprice_\u001b[0m\u001b[0;34m\u001b[0m\u001b[0m\n\u001b[0m",
      "\u001b[0;31mNameError\u001b[0m: name 'price_' is not defined"
     ]
    }
   ],
   "source": [
    "#answer, write code which is a solution for above question.\n",
    "price_list = coindesk.prices('1-1-2017','30-1-2017')\n",
    "for i in enumerated(price_list);\n",
    "if price_list[i]<price_list[i+1]\n",
    "    price_list[i] = 0\n",
    "else\n",
    "    price_list[i] = 1\n"
   ]
  }
 ],
 "metadata": {
  "executed_sections": [],
  "kernelspec": {
   "display_name": "Python 3",
   "language": "python",
   "name": "python3"
  },
  "language_info": {
   "codemirror_mode": {
    "name": "ipython",
    "version": 3
   },
   "file_extension": ".py",
   "mimetype": "text/x-python",
   "name": "python",
   "nbconvert_exporter": "python",
   "pygments_lexer": "ipython3",
   "version": "3.5.2"
  }
 },
 "nbformat": 4,
 "nbformat_minor": 2
}